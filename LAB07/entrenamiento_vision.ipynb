{
 "cells": [
  {
   "cell_type": "code",
   "execution_count": 1,
   "id": "244020b4",
   "metadata": {},
   "outputs": [],
   "source": [
    "import tensorflow as tf\n",
    "from tensorflow import keras\n",
    "from tensorflow.keras import backend as K\n",
    "from tensorflow.keras import layers, models"
   ]
  },
  {
   "cell_type": "markdown",
   "id": "64f93c98",
   "metadata": {},
   "source": [
    "TAREA DE HOY\n",
    "Trabajar con Fashion MNIST\n"
   ]
  },
  {
   "cell_type": "code",
   "execution_count": 2,
   "id": "408861ad",
   "metadata": {},
   "outputs": [
    {
     "name": "stdout",
     "output_type": "stream",
     "text": [
      "3.10.0\n"
     ]
    }
   ],
   "source": [
    "import keras\n",
    "print(keras.__version__)\n"
   ]
  },
  {
   "cell_type": "code",
   "execution_count": 14,
   "id": "f41a2d58",
   "metadata": {},
   "outputs": [
    {
     "name": "stdout",
     "output_type": "stream",
     "text": [
      "x_train shape: [[  0   0   0   0   0   1   1   0   0   0   0  63  28   0   0   0  33  85\n",
      "    0   0   0   0   0   0   0   0   0   0]\n",
      " [  0   0   0   0   0   2   0   0  28 126 241 255 255 255 255 255 255 252\n",
      "  248 111   0   0   0   2   0   0   0   0]\n",
      " [  0   0   0   0   2   0   0 206 244 251 241 230 238 221 205 230 240 230\n",
      "  239 251 233 165   0   0   2   0   0   0]\n",
      " [  0   0   0   1   0   0 199 251 228 234 233 236 235 245 247 237 234 239\n",
      "  230 230 235 255 176   0   0   1   0   0]\n",
      " [  0   0   0   0   0  81 254 226 228 239 237 236 234 232 233 235 235 236\n",
      "  239 237 233 225 246  73   0   0   0   0]\n",
      " [  0   0   3   0   0 255 235 239 223 234 238 236 237 236 235 235 235 235\n",
      "  236 235 234 230 231 255  24   0   4   0]\n",
      " [  0   0   0   0 177 239 223 254 223 232 234 234 236 236 235 235 235 235\n",
      "  235 234 231 233 222 246  88   0   1   0]\n",
      " [  0   0   0   0 234 239 229 255 220 232 233 232 234 235 235 235 235 235\n",
      "  234 233 232 230 228 254 140   0   0   0]\n",
      " [  0   0   0   0 225 240 226 255 221 227 232 228 231 230 228 229 231 230\n",
      "  228 228 232 223 229 244 231   0   0   0]\n",
      " [  0   0   0  47 245 231 234 249 229 221 229 225 229 227 226 227 228 227\n",
      "  228 229 228 224 246 240 227   0   0   0]\n",
      " [  0   0   0  51 248 230 245 246 230 226 230 227 230 229 228 229 230 228\n",
      "  228 231 225 227 242 237 255   0   0   0]\n",
      " [  0   0   0 101 253 229 247 241 221 233 228 227 229 228 227 228 230 227\n",
      "  230 234 225 229 251 229 243  55   0   0]\n",
      " [  0   0   0 102 255 227 242 241 221 234 223 230 228 231 229 231 231 227\n",
      "  229 241 219 236 254 225 250 167   0   0]\n",
      " [  0   0   0  90 255 229 236 231 222 236 223 231 229 231 229 231 231 228\n",
      "  224 245 218 243 239 227 244 175   0   0]\n",
      " [  0   0   0 212 250 225 236 249 229 237 223 231 229 231 229 231 231 230\n",
      "  221 243 225 248 230 236 234 255   1   0]\n",
      " [  0   0   0 245 243 232 243 218 228 238 222 231 229 231 229 231 231 230\n",
      "  222 237 237 252 229 239 240 223   0   0]\n",
      " [  0   0  27 255 235 242 237 216 230 236 224 229 227 233 233 233 230 228\n",
      "  224 230 245 247 221 243 239 252   0   0]\n",
      " [  0   0  88 255 232 248 236 208 234 231 223 227 226 233 232 232 230 228\n",
      "  224 224 235 233 234 247 235 255   0   0]\n",
      " [  0   0  83 255 225 250 237 224 236 229 225 225 227 235 229 231 230 230\n",
      "  227 221 227 221 239 250 231 255   0   0]\n",
      " [  0   0  20 255 224 248 234 226 232 222 225 224 231 238 226 230 228 230\n",
      "  230 221 229 225 244 246 230 255   0   0]\n",
      " [  0   0  95 255 218 242 255 232 226 224 229 228 228 232 228 229 231 233\n",
      "  232 226 221 224 247 244 228 255   0   0]\n",
      " [  0   0 167 255 213 235 255  81 245 251 238 236 230 229 230 229 230 231\n",
      "  238 240 255 192 255 239 228 255  23   0]\n",
      " [  0   0 173 242 224 233 255   0 136 226 239 255 229 236 236 234 233 228\n",
      "  251 248 200  81 255 237 225 255 101   0]\n",
      " [  0   0 172 255 226 233 255   0   0   0   0   0   8  21  22  21  20  14\n",
      "    0   0   0   0 255 238 229 246 178   0]\n",
      " [  0   0  16 255 236 238 252   0   0   0   0   0   0   0   0   0   0   0\n",
      "    0   0   0   0 222 244 222 254 119   0]\n",
      " [  0   0   0  30 228 242 163   0   0   0   0   2   4   6   5   5   4   4\n",
      "    2   0   1   0 151 251 235 180   0   0]\n",
      " [  0   0   0   0 234 255 191   0  11   0   0   0   0   0   0   0   0   0\n",
      "    0   0   4   0 103 246 247  72   0   0]\n",
      " [  0   0   0   1  95  77  52   0   4   0   0   0   0   0   0   0   0   0\n",
      "    0   0   3   0  82 237 231  70   0   0]]\n",
      "y_train shape: [2 2 6 ... 6 6 2]\n"
     ]
    }
   ],
   "source": [
    "dataset_x = keras.datasets.fashion_mnist\n",
    "(x_train, y_train), (x_test, y_test) = dataset_x.load_data()\n",
    "\n",
    "pants_tshirt_train_idx = (y_train == 2) | (y_train == 6)\n",
    "pants_tshirt_test_idx = (y_test == 2) | (y_test == 6)\n",
    "\n",
    "x_train = x_train[pants_tshirt_train_idx]\n",
    "y_train = y_train[pants_tshirt_train_idx]\n",
    "x_test = x_test[pants_tshirt_test_idx]\n",
    "y_test = y_test[pants_tshirt_test_idx]\n",
    "\n",
    "print(\"x_train shape:\", x_train[1])\n",
    "print(\"y_train shape:\", y_train)"
   ]
  },
  {
   "cell_type": "code",
   "execution_count": 5,
   "id": "c7c70a56",
   "metadata": {},
   "outputs": [
    {
     "name": "stderr",
     "output_type": "stream",
     "text": [
      "c:\\LABS\\TOPICAS GRAFICA\\.venv\\Lib\\site-packages\\keras\\src\\layers\\convolutional\\base_conv.py:113: UserWarning: Do not pass an `input_shape`/`input_dim` argument to a layer. When using Sequential models, prefer using an `Input(shape)` object as the first layer in the model instead.\n",
      "  super().__init__(activity_regularizer=activity_regularizer, **kwargs)\n"
     ]
    },
    {
     "data": {
      "text/html": [
       "<pre style=\"white-space:pre;overflow-x:auto;line-height:normal;font-family:Menlo,'DejaVu Sans Mono',consolas,'Courier New',monospace\"><span style=\"font-weight: bold\">Model: \"sequential_1\"</span>\n",
       "</pre>\n"
      ],
      "text/plain": [
       "\u001b[1mModel: \"sequential_1\"\u001b[0m\n"
      ]
     },
     "metadata": {},
     "output_type": "display_data"
    },
    {
     "data": {
      "text/html": [
       "<pre style=\"white-space:pre;overflow-x:auto;line-height:normal;font-family:Menlo,'DejaVu Sans Mono',consolas,'Courier New',monospace\">┏━━━━━━━━━━━━━━━━━━━━━━━━━━━━━━━━━┳━━━━━━━━━━━━━━━━━━━━━━━━┳━━━━━━━━━━━━━━━┓\n",
       "┃<span style=\"font-weight: bold\"> Layer (type)                    </span>┃<span style=\"font-weight: bold\"> Output Shape           </span>┃<span style=\"font-weight: bold\">       Param # </span>┃\n",
       "┡━━━━━━━━━━━━━━━━━━━━━━━━━━━━━━━━━╇━━━━━━━━━━━━━━━━━━━━━━━━╇━━━━━━━━━━━━━━━┩\n",
       "│ conv2d_1 (<span style=\"color: #0087ff; text-decoration-color: #0087ff\">Conv2D</span>)               │ (<span style=\"color: #00d7ff; text-decoration-color: #00d7ff\">None</span>, <span style=\"color: #00af00; text-decoration-color: #00af00\">26</span>, <span style=\"color: #00af00; text-decoration-color: #00af00\">26</span>, <span style=\"color: #00af00; text-decoration-color: #00af00\">10</span>)     │           <span style=\"color: #00af00; text-decoration-color: #00af00\">100</span> │\n",
       "├─────────────────────────────────┼────────────────────────┼───────────────┤\n",
       "│ max_pooling2d_1 (<span style=\"color: #0087ff; text-decoration-color: #0087ff\">MaxPooling2D</span>)  │ (<span style=\"color: #00d7ff; text-decoration-color: #00d7ff\">None</span>, <span style=\"color: #00af00; text-decoration-color: #00af00\">13</span>, <span style=\"color: #00af00; text-decoration-color: #00af00\">13</span>, <span style=\"color: #00af00; text-decoration-color: #00af00\">10</span>)     │             <span style=\"color: #00af00; text-decoration-color: #00af00\">0</span> │\n",
       "├─────────────────────────────────┼────────────────────────┼───────────────┤\n",
       "│ flatten (<span style=\"color: #0087ff; text-decoration-color: #0087ff\">Flatten</span>)               │ (<span style=\"color: #00d7ff; text-decoration-color: #00d7ff\">None</span>, <span style=\"color: #00af00; text-decoration-color: #00af00\">1690</span>)           │             <span style=\"color: #00af00; text-decoration-color: #00af00\">0</span> │\n",
       "├─────────────────────────────────┼────────────────────────┼───────────────┤\n",
       "│ dense (<span style=\"color: #0087ff; text-decoration-color: #0087ff\">Dense</span>)                   │ (<span style=\"color: #00d7ff; text-decoration-color: #00d7ff\">None</span>, <span style=\"color: #00af00; text-decoration-color: #00af00\">10</span>)             │        <span style=\"color: #00af00; text-decoration-color: #00af00\">16,910</span> │\n",
       "└─────────────────────────────────┴────────────────────────┴───────────────┘\n",
       "</pre>\n"
      ],
      "text/plain": [
       "┏━━━━━━━━━━━━━━━━━━━━━━━━━━━━━━━━━┳━━━━━━━━━━━━━━━━━━━━━━━━┳━━━━━━━━━━━━━━━┓\n",
       "┃\u001b[1m \u001b[0m\u001b[1mLayer (type)                   \u001b[0m\u001b[1m \u001b[0m┃\u001b[1m \u001b[0m\u001b[1mOutput Shape          \u001b[0m\u001b[1m \u001b[0m┃\u001b[1m \u001b[0m\u001b[1m      Param #\u001b[0m\u001b[1m \u001b[0m┃\n",
       "┡━━━━━━━━━━━━━━━━━━━━━━━━━━━━━━━━━╇━━━━━━━━━━━━━━━━━━━━━━━━╇━━━━━━━━━━━━━━━┩\n",
       "│ conv2d_1 (\u001b[38;5;33mConv2D\u001b[0m)               │ (\u001b[38;5;45mNone\u001b[0m, \u001b[38;5;34m26\u001b[0m, \u001b[38;5;34m26\u001b[0m, \u001b[38;5;34m10\u001b[0m)     │           \u001b[38;5;34m100\u001b[0m │\n",
       "├─────────────────────────────────┼────────────────────────┼───────────────┤\n",
       "│ max_pooling2d_1 (\u001b[38;5;33mMaxPooling2D\u001b[0m)  │ (\u001b[38;5;45mNone\u001b[0m, \u001b[38;5;34m13\u001b[0m, \u001b[38;5;34m13\u001b[0m, \u001b[38;5;34m10\u001b[0m)     │             \u001b[38;5;34m0\u001b[0m │\n",
       "├─────────────────────────────────┼────────────────────────┼───────────────┤\n",
       "│ flatten (\u001b[38;5;33mFlatten\u001b[0m)               │ (\u001b[38;5;45mNone\u001b[0m, \u001b[38;5;34m1690\u001b[0m)           │             \u001b[38;5;34m0\u001b[0m │\n",
       "├─────────────────────────────────┼────────────────────────┼───────────────┤\n",
       "│ dense (\u001b[38;5;33mDense\u001b[0m)                   │ (\u001b[38;5;45mNone\u001b[0m, \u001b[38;5;34m10\u001b[0m)             │        \u001b[38;5;34m16,910\u001b[0m │\n",
       "└─────────────────────────────────┴────────────────────────┴───────────────┘\n"
      ]
     },
     "metadata": {},
     "output_type": "display_data"
    },
    {
     "data": {
      "text/html": [
       "<pre style=\"white-space:pre;overflow-x:auto;line-height:normal;font-family:Menlo,'DejaVu Sans Mono',consolas,'Courier New',monospace\"><span style=\"font-weight: bold\"> Total params: </span><span style=\"color: #00af00; text-decoration-color: #00af00\">17,010</span> (66.45 KB)\n",
       "</pre>\n"
      ],
      "text/plain": [
       "\u001b[1m Total params: \u001b[0m\u001b[38;5;34m17,010\u001b[0m (66.45 KB)\n"
      ]
     },
     "metadata": {},
     "output_type": "display_data"
    },
    {
     "data": {
      "text/html": [
       "<pre style=\"white-space:pre;overflow-x:auto;line-height:normal;font-family:Menlo,'DejaVu Sans Mono',consolas,'Courier New',monospace\"><span style=\"font-weight: bold\"> Trainable params: </span><span style=\"color: #00af00; text-decoration-color: #00af00\">17,010</span> (66.45 KB)\n",
       "</pre>\n"
      ],
      "text/plain": [
       "\u001b[1m Trainable params: \u001b[0m\u001b[38;5;34m17,010\u001b[0m (66.45 KB)\n"
      ]
     },
     "metadata": {},
     "output_type": "display_data"
    },
    {
     "data": {
      "text/html": [
       "<pre style=\"white-space:pre;overflow-x:auto;line-height:normal;font-family:Menlo,'DejaVu Sans Mono',consolas,'Courier New',monospace\"><span style=\"font-weight: bold\"> Non-trainable params: </span><span style=\"color: #00af00; text-decoration-color: #00af00\">0</span> (0.00 B)\n",
       "</pre>\n"
      ],
      "text/plain": [
       "\u001b[1m Non-trainable params: \u001b[0m\u001b[38;5;34m0\u001b[0m (0.00 B)\n"
      ]
     },
     "metadata": {},
     "output_type": "display_data"
    }
   ],
   "source": [
    "model = keras.Sequential()\n",
    "\n",
    "model.add(layers.Conv2D(10,3,padding='valid', activation='relu', input_shape=(28, 28, 1)))\n",
    "model.add(layers.MaxPooling2D(pool_size=(2, 2)))\n",
    "model.add(layers.Flatten())\n",
    "model.add(layers.Dense(10, activation='softmax'))\n",
    "model.summary()"
   ]
  },
  {
   "cell_type": "code",
   "execution_count": null,
   "id": "3df51b67",
   "metadata": {},
   "outputs": [],
   "source": [
    "# SE PUEDE USAR VISUAL KERAS PARA VER EL MODELO \n",
    "import visualkeras\n",
    "visualkeras.layered_view(model, to_file='model.png', legend=True, draw_volume=False)\n",
    "# OPTIMIZADOR PARA BINARIO, JUNTO CON FUNCION MULTIPERDIDA NO MULTICLASE,  EN EL VALOR DE SALIDA SERA O 0 O 1"
   ]
  }
 ],
 "metadata": {
  "kernelspec": {
   "display_name": ".venv",
   "language": "python",
   "name": "python3"
  },
  "language_info": {
   "codemirror_mode": {
    "name": "ipython",
    "version": 3
   },
   "file_extension": ".py",
   "mimetype": "text/x-python",
   "name": "python",
   "nbconvert_exporter": "python",
   "pygments_lexer": "ipython3",
   "version": "3.12.6"
  }
 },
 "nbformat": 4,
 "nbformat_minor": 5
}
